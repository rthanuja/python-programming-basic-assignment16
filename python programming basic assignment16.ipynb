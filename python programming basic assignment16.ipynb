{
 "cells": [
  {
   "cell_type": "code",
   "execution_count": 1,
   "id": "ddb3fb94",
   "metadata": {},
   "outputs": [
    {
     "name": "stdout",
     "output_type": "stream",
     "text": [
      "en... en... enthusiastic?\n",
      "in... in... incredible?\n",
      "ou... ou... outstanding?\n"
     ]
    }
   ],
   "source": [
    "'''1. Write a function that stutters a word as if someone is struggling to read it. The first two letters are repeated twice\n",
    "with an ellipsis ... and space after each, and then the word is pronounced with a question mark ?.'''\n",
    "def stutter(s):\n",
    "    print((\"{}{}... \".format(s[0],s[1])*2)+s+\"?\")\n",
    "stutter(\"enthusiastic\")\n",
    "stutter (\"incredible\")\n",
    "stutter(\"outstanding\")"
   ]
  },
  {
   "cell_type": "code",
   "execution_count": 2,
   "id": "b987672b",
   "metadata": {},
   "outputs": [
    {
     "data": {
      "text/plain": [
       "57.3"
      ]
     },
     "execution_count": 2,
     "metadata": {},
     "output_type": "execute_result"
    }
   ],
   "source": [
    "'''2.Create a function that takes an angle in radians and returns the corresponding angle in degrees rounded to one \n",
    "decimal place.'''\n",
    "def radians_to_degrees(a):\n",
    "    d=(a*180*7)/22\n",
    "    return round(d,1)\n",
    "radians_to_degrees(1)\n"
   ]
  },
  {
   "cell_type": "code",
   "execution_count": 3,
   "id": "0e71681b",
   "metadata": {},
   "outputs": [
    {
     "data": {
      "text/plain": [
       "1145.5"
      ]
     },
     "execution_count": 3,
     "metadata": {},
     "output_type": "execute_result"
    }
   ],
   "source": [
    "radians_to_degrees(20)"
   ]
  },
  {
   "cell_type": "code",
   "execution_count": 4,
   "id": "a05f050a",
   "metadata": {},
   "outputs": [
    {
     "data": {
      "text/plain": [
       "2863.6"
      ]
     },
     "execution_count": 4,
     "metadata": {},
     "output_type": "execute_result"
    }
   ],
   "source": [
    "radians_to_degrees(50)"
   ]
  },
  {
   "cell_type": "code",
   "execution_count": 5,
   "id": "80a32422",
   "metadata": {},
   "outputs": [],
   "source": [
    "'''3. In this challenge, establish if a given integer num is a Curzon number. If 1 plus 2 elevated to num is exactly divisible\n",
    "by 1 plus 2 multiplied by num, then num is a Curzon number.Given a non-negative integer num, implement a function that returns \n",
    "True if num is a Curzon number, or False otherwise.'''\n",
    "def is_curzon(n):\n",
    "    if (1+2**n)%(1+2*n)==0:\n",
    "        return True\n",
    "    else:\n",
    "        return False\n"
   ]
  },
  {
   "cell_type": "code",
   "execution_count": 6,
   "id": "d9ade014",
   "metadata": {},
   "outputs": [
    {
     "data": {
      "text/plain": [
       "True"
      ]
     },
     "execution_count": 6,
     "metadata": {},
     "output_type": "execute_result"
    }
   ],
   "source": [
    "is_curzon(5)"
   ]
  },
  {
   "cell_type": "code",
   "execution_count": 7,
   "id": "a4a18a23",
   "metadata": {},
   "outputs": [
    {
     "data": {
      "text/plain": [
       "False"
      ]
     },
     "execution_count": 7,
     "metadata": {},
     "output_type": "execute_result"
    }
   ],
   "source": [
    "is_curzon(10)"
   ]
  },
  {
   "cell_type": "code",
   "execution_count": 8,
   "id": "8d91409c",
   "metadata": {},
   "outputs": [
    {
     "data": {
      "text/plain": [
       "True"
      ]
     },
     "execution_count": 8,
     "metadata": {},
     "output_type": "execute_result"
    }
   ],
   "source": [
    "is_curzon(14)"
   ]
  },
  {
   "cell_type": "code",
   "execution_count": 9,
   "id": "06371268",
   "metadata": {},
   "outputs": [],
   "source": [
    "#4.Given the side length x find the area of a hexagon.\n",
    "def areaofhexagon(s):\n",
    "    a=(3*(3**(1/2)*(s**2))/2)\n",
    "    return round(a,1)"
   ]
  },
  {
   "cell_type": "code",
   "execution_count": 10,
   "id": "6e5da3a7",
   "metadata": {},
   "outputs": [
    {
     "data": {
      "text/plain": [
       "2.6"
      ]
     },
     "execution_count": 10,
     "metadata": {},
     "output_type": "execute_result"
    }
   ],
   "source": [
    "areaofhexagon(1)"
   ]
  },
  {
   "cell_type": "code",
   "execution_count": 11,
   "id": "4ecc1bea",
   "metadata": {},
   "outputs": [
    {
     "data": {
      "text/plain": [
       "10.4"
      ]
     },
     "execution_count": 11,
     "metadata": {},
     "output_type": "execute_result"
    }
   ],
   "source": [
    "areaofhexagon(2)"
   ]
  },
  {
   "cell_type": "code",
   "execution_count": 12,
   "id": "d28282cd",
   "metadata": {},
   "outputs": [
    {
     "data": {
      "text/plain": [
       "23.4"
      ]
     },
     "execution_count": 12,
     "metadata": {},
     "output_type": "execute_result"
    }
   ],
   "source": [
    "areaofhexagon(3)"
   ]
  },
  {
   "cell_type": "code",
   "execution_count": 16,
   "id": "4163ddbc",
   "metadata": {},
   "outputs": [],
   "source": [
    "'''5. Create a function that returns a base-2 (binary) representation of a base-10\n",
    "(decimal) string number. To convert is simple: ((2) means base-2 and (10) means base-10)\n",
    "010101001(2) = 1 + 8 + 32 + 128.\n",
    "Going from right to left, the value of the most right bit is 1, now from that every bit to the left\n",
    "will be x2 the value, value of an 8 bit binary numbers are (256, 128, 64, 32, 16, 8, 4, 2, 1).'''\n",
    "def binary(n):\n",
    "    s=\"\"\n",
    "    while(n!=0):\n",
    "        i=n%2\n",
    "        s+=str(i)\n",
    "        n=n//2\n",
    "    return (s[::-1])\n",
    "\n"
   ]
  },
  {
   "cell_type": "code",
   "execution_count": 17,
   "id": "72d1879e",
   "metadata": {},
   "outputs": [
    {
     "data": {
      "text/plain": [
       "'1'"
      ]
     },
     "execution_count": 17,
     "metadata": {},
     "output_type": "execute_result"
    }
   ],
   "source": [
    "binary(1)"
   ]
  },
  {
   "cell_type": "code",
   "execution_count": 18,
   "id": "5e5a79a8",
   "metadata": {},
   "outputs": [
    {
     "data": {
      "text/plain": [
       "'101'"
      ]
     },
     "execution_count": 18,
     "metadata": {},
     "output_type": "execute_result"
    }
   ],
   "source": [
    "binary(5)"
   ]
  },
  {
   "cell_type": "code",
   "execution_count": 19,
   "id": "6a0875eb",
   "metadata": {},
   "outputs": [
    {
     "data": {
      "text/plain": [
       "'1010'"
      ]
     },
     "execution_count": 19,
     "metadata": {},
     "output_type": "execute_result"
    }
   ],
   "source": [
    "binary(10)"
   ]
  }
 ],
 "metadata": {
  "kernelspec": {
   "display_name": "Python 3 (ipykernel)",
   "language": "python",
   "name": "python3"
  },
  "language_info": {
   "codemirror_mode": {
    "name": "ipython",
    "version": 3
   },
   "file_extension": ".py",
   "mimetype": "text/x-python",
   "name": "python",
   "nbconvert_exporter": "python",
   "pygments_lexer": "ipython3",
   "version": "3.10.9"
  }
 },
 "nbformat": 4,
 "nbformat_minor": 5
}
